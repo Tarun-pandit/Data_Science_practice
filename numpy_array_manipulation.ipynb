{
  "nbformat": 4,
  "nbformat_minor": 0,
  "metadata": {
    "colab": {
      "provenance": [],
      "authorship_tag": "ABX9TyONtS96c+zCCpJAJbTu6qn+",
      "include_colab_link": true
    },
    "kernelspec": {
      "name": "python3",
      "display_name": "Python 3"
    },
    "language_info": {
      "name": "python"
    }
  },
  "cells": [
    {
      "cell_type": "markdown",
      "metadata": {
        "id": "view-in-github",
        "colab_type": "text"
      },
      "source": [
        "<a href=\"https://colab.research.google.com/github/Tarun-pandit/Data_Science_practice/blob/NUMPY/numpy_array_manipulation.ipynb\" target=\"_parent\"><img src=\"https://colab.research.google.com/assets/colab-badge.svg\" alt=\"Open In Colab\"/></a>"
      ]
    },
    {
      "cell_type": "code",
      "execution_count": null,
      "metadata": {
        "colab": {
          "base_uri": "https://localhost:8080/"
        },
        "id": "3aB1MRLK3ghT",
        "outputId": "097d9023-4cfa-487d-ce9c-cc26f5b89ea7"
      },
      "outputs": [
        {
          "output_type": "execute_result",
          "data": {
            "text/plain": [
              "array([[ 1,  2,  3],\n",
              "       [ 4,  5,  6],\n",
              "       [ 7,  8,  9],\n",
              "       [11, 12, 13]])"
            ]
          },
          "metadata": {},
          "execution_count": 49
        }
      ],
      "source": [
        "import numpy as np\n",
        "# Create a NumPy array with 4 rows and 3 columns\n",
        "arr = np.array([[1,2,3], [4,5,6], [7,8,9],[11,12,13]])\n",
        "# Display the array\n",
        "arr"
      ]
    },
    {
      "cell_type": "code",
      "source": [
        "# Flatten the array 'arr' into a 1-dimensional array\n",
        "flat = arr.flatten()\n",
        "# Display the flattened array\n",
        "flat"
      ],
      "metadata": {
        "colab": {
          "base_uri": "https://localhost:8080/"
        },
        "id": "5byWYVij49HT",
        "outputId": "5787a687-5b61-43de-cc49-e6d315d4c333"
      },
      "execution_count": null,
      "outputs": [
        {
          "output_type": "execute_result",
          "data": {
            "text/plain": [
              "array([ 1,  2,  3,  4,  5,  6,  7,  8,  9, 11, 12, 13])"
            ]
          },
          "metadata": {},
          "execution_count": 50
        }
      ]
    },
    {
      "cell_type": "code",
      "source": [
        "# Access the element at index 0 of the flattened array 'flat'\n",
        "flat[0]"
      ],
      "metadata": {
        "colab": {
          "base_uri": "https://localhost:8080/"
        },
        "id": "nv8frqVe5PtF",
        "outputId": "5b9cd345-763c-4e82-9ae9-49828339a508"
      },
      "execution_count": null,
      "outputs": [
        {
          "output_type": "execute_result",
          "data": {
            "text/plain": [
              "np.int64(1)"
            ]
          },
          "metadata": {},
          "execution_count": 51
        }
      ]
    },
    {
      "cell_type": "code",
      "source": [
        "# Slice the flattened array 'flat' to get elements from the beginning up to index 5 (exclusive)\n",
        "flat[:5]"
      ],
      "metadata": {
        "colab": {
          "base_uri": "https://localhost:8080/"
        },
        "id": "vOFACSsr5WoP",
        "outputId": "884dace2-64d8-462f-abb3-8ef571d16a5a"
      },
      "execution_count": null,
      "outputs": [
        {
          "output_type": "execute_result",
          "data": {
            "text/plain": [
              "array([1, 2, 3, 4, 5])"
            ]
          },
          "metadata": {},
          "execution_count": 52
        }
      ]
    },
    {
      "cell_type": "code",
      "source": [
        "# Slice the flattened array 'flat' to get elements from index 3 (inclusive) to the end\n",
        "flat[3:]"
      ],
      "metadata": {
        "colab": {
          "base_uri": "https://localhost:8080/"
        },
        "id": "wKHR1KgN5jt8",
        "outputId": "be257826-5a44-4165-c589-09ddcb75f757"
      },
      "execution_count": null,
      "outputs": [
        {
          "output_type": "execute_result",
          "data": {
            "text/plain": [
              "array([ 4,  5,  6,  7,  8,  9, 11, 12, 13])"
            ]
          },
          "metadata": {},
          "execution_count": 53
        }
      ]
    },
    {
      "cell_type": "code",
      "source": [
        "# Slice the flattened array 'flat' to get elements from index 3 (inclusive) up to index 13 (exclusive)\n",
        "flat[3:13]"
      ],
      "metadata": {
        "colab": {
          "base_uri": "https://localhost:8080/"
        },
        "id": "RSVSrr0n5rcI",
        "outputId": "1db6bea7-7795-438a-9d53-6feaa1e88c20"
      },
      "execution_count": null,
      "outputs": [
        {
          "output_type": "execute_result",
          "data": {
            "text/plain": [
              "array([ 4,  5,  6,  7,  8,  9, 11, 12, 13])"
            ]
          },
          "metadata": {},
          "execution_count": 54
        }
      ]
    },
    {
      "cell_type": "code",
      "source": [
        "# Slice the flattened array 'flat' to get elements with a step of 2 (every other element)\n",
        "flat[::2]"
      ],
      "metadata": {
        "colab": {
          "base_uri": "https://localhost:8080/"
        },
        "id": "8D7Td4WB5-i6",
        "outputId": "d8652020-af81-4a46-cc96-9cd2be4a03b5"
      },
      "execution_count": null,
      "outputs": [
        {
          "output_type": "execute_result",
          "data": {
            "text/plain": [
              "array([ 1,  3,  5,  7,  9, 12])"
            ]
          },
          "metadata": {},
          "execution_count": 55
        }
      ]
    },
    {
      "cell_type": "code",
      "source": [
        "# Slice the flattened array 'flat' from index 3 to 7 (exclusive) and create a copy\n",
        "b = flat[3:7].copy() ##+++++++++++++3.\n",
        "# Display the new array 'b'\n",
        "b"
      ],
      "metadata": {
        "colab": {
          "base_uri": "https://localhost:8080/"
        },
        "id": "YBjR4wGP6L4l",
        "outputId": "f2c4c37f-0e38-49e7-8488-a42dd0be3797"
      },
      "execution_count": null,
      "outputs": [
        {
          "output_type": "execute_result",
          "data": {
            "text/plain": [
              "array([4, 5, 6, 7])"
            ]
          },
          "metadata": {},
          "execution_count": 56
        }
      ]
    },
    {
      "cell_type": "code",
      "source": [
        "# Change the element at index 0 of array 'b'\n",
        "b[0] = 4444666"
      ],
      "metadata": {
        "id": "BdI54OmM6mNp"
      },
      "execution_count": null,
      "outputs": []
    },
    {
      "cell_type": "code",
      "source": [
        "# Display array 'b' after modification\n",
        "b"
      ],
      "metadata": {
        "colab": {
          "base_uri": "https://localhost:8080/"
        },
        "id": "OVw7_Csn6p3s",
        "outputId": "4fbf4a36-5eaf-4e9f-c340-4f0f3660d078"
      },
      "execution_count": null,
      "outputs": [
        {
          "output_type": "execute_result",
          "data": {
            "text/plain": [
              "array([4444666,       5,       6,       7])"
            ]
          },
          "metadata": {},
          "execution_count": 58
        }
      ]
    },
    {
      "cell_type": "code",
      "source": [
        "# Display the original flattened array 'flat' to show that changing 'b' did not affect 'flat' (because .copy() was used)\n",
        "flat"
      ],
      "metadata": {
        "colab": {
          "base_uri": "https://localhost:8080/"
        },
        "id": "5bsHDgKD6rp9",
        "outputId": "f5747ecd-005f-407a-a507-d7c1172eb1d3"
      },
      "execution_count": null,
      "outputs": [
        {
          "output_type": "execute_result",
          "data": {
            "text/plain": [
              "array([ 1,  2,  3,  4,  5,  6,  7,  8,  9, 11, 12, 13])"
            ]
          },
          "metadata": {},
          "execution_count": 59
        }
      ]
    },
    {
      "cell_type": "code",
      "source": [
        "# Create a new NumPy array\n",
        "arr1 = np.array([1,54,23,2,3,4,30,5,6])\n",
        "# Use fancy indexing to select elements at indices 1, 4, and 6 from 'arr1'\n",
        "arr1[[1,4,6]]"
      ],
      "metadata": {
        "colab": {
          "base_uri": "https://localhost:8080/"
        },
        "id": "ds2711XL61mA",
        "outputId": "e2891a6e-a36c-4bdf-c80c-7765aa75c298"
      },
      "execution_count": null,
      "outputs": [
        {
          "output_type": "execute_result",
          "data": {
            "text/plain": [
              "array([54,  3, 30])"
            ]
          },
          "metadata": {},
          "execution_count": 60
        }
      ]
    },
    {
      "cell_type": "code",
      "source": [
        "# Use boolean indexing to select elements from 'arr1' that are greater than 3\n",
        "arr1[arr1>3]"
      ],
      "metadata": {
        "colab": {
          "base_uri": "https://localhost:8080/"
        },
        "id": "Jg59Zqvq-u9h",
        "outputId": "2545c5df-b89f-490d-b18b-6d52451ed639"
      },
      "execution_count": null,
      "outputs": [
        {
          "output_type": "execute_result",
          "data": {
            "text/plain": [
              "array([54, 23,  4, 30,  5,  6])"
            ]
          },
          "metadata": {},
          "execution_count": 61
        }
      ]
    },
    {
      "cell_type": "code",
      "source": [
        "import numpy as np\n",
        "\n",
        "# Create a 3x3 array filled with random numbers\n",
        "random_arr = np.random.rand(3, 3)\n",
        "\n",
        "# Print the shape of the array\n",
        "print(\"Shape of the random array:\", random_arr.shape)\n",
        "\n",
        "# Display the array\n",
        "display(random_arr)"
      ],
      "metadata": {
        "colab": {
          "base_uri": "https://localhost:8080/",
          "height": 86
        },
        "id": "w3CjBJRx2Lln",
        "outputId": "9b2331a1-5c90-4352-859e-59f6bc2c0114"
      },
      "execution_count": null,
      "outputs": [
        {
          "output_type": "stream",
          "name": "stdout",
          "text": [
            "Shape of the random array: (3, 3)\n"
          ]
        },
        {
          "output_type": "display_data",
          "data": {
            "text/plain": [
              "array([[0.89169164, 0.36688028, 0.97477493],\n",
              "       [0.84036624, 0.94114861, 0.12631947],\n",
              "       [0.03809538, 0.45878251, 0.99741059]])"
            ]
          },
          "metadata": {}
        }
      ]
    },
    {
      "cell_type": "code",
      "source": [],
      "metadata": {
        "id": "_I8L-5xv2pJA"
      },
      "execution_count": null,
      "outputs": []
    },
    {
      "cell_type": "code",
      "metadata": {
        "id": "2fb35020",
        "colab": {
          "base_uri": "https://localhost:8080/",
          "height": 69
        },
        "outputId": "49f03305-c071-4c17-c9eb-0f9c5815fc33"
      },
      "source": [
        "# Create your own unique float array\n",
        "my_float_array = np.array([[1.5, 2.3, 3.8], [4.1, 5.9, 6.2], [7.7, 8.0, 9.5]])\n",
        "\n",
        "# Convert the float array to an integer array\n",
        "my_integer_array = my_float_array.astype(int)\n",
        "\n",
        "# Display the integer array\n",
        "display(my_integer_array)"
      ],
      "execution_count": null,
      "outputs": [
        {
          "output_type": "display_data",
          "data": {
            "text/plain": [
              "array([[1, 2, 3],\n",
              "       [4, 5, 6],\n",
              "       [7, 8, 9]])"
            ]
          },
          "metadata": {}
        }
      ]
    },
    {
      "cell_type": "code",
      "source": [],
      "metadata": {
        "id": "3JE3neWP3XWC"
      },
      "execution_count": null,
      "outputs": []
    },
    {
      "cell_type": "code",
      "metadata": {
        "colab": {
          "base_uri": "https://localhost:8080/"
        },
        "id": "8a94ebbe",
        "outputId": "9cc4c87a-369c-45da-e10f-de95323f9d53"
      },
      "source": [
        "import numpy as np\n",
        "\n",
        "# 1. Use fancy indexing to extract even numbers\n",
        "arr_fancy = np.array([1, 2, 3, 4, 5, 6])\n",
        "even_indices = [1, 3, 5] # Indices of even numbers\n",
        "even_numbers = arr_fancy[even_indices]\n",
        "print(\"Even numbers using fancy indexing:\", even_numbers)"
      ],
      "execution_count": null,
      "outputs": [
        {
          "output_type": "stream",
          "name": "stdout",
          "text": [
            "Even numbers using fancy indexing: [2 4 6]\n"
          ]
        }
      ]
    },
    {
      "cell_type": "code",
      "metadata": {
        "colab": {
          "base_uri": "https://localhost:8080/",
          "height": 86
        },
        "id": "55089a6a",
        "outputId": "4a2dc54c-9f0d-4e25-fcc0-582a92c9c4dc"
      },
      "source": [
        "import numpy as np\n",
        "\n",
        "# 2. Reshape a 1D array of size 9 into a 3x3 matrix\n",
        "arr_1d = np.arange(9) # Create a 1D array from 0 to 8\n",
        "arr_3x3 = arr_1d.reshape((3, 3))\n",
        "print(\"Reshaped 3x3 matrix:\")\n",
        "display(arr_3x3)"
      ],
      "execution_count": null,
      "outputs": [
        {
          "output_type": "stream",
          "name": "stdout",
          "text": [
            "Reshaped 3x3 matrix:\n"
          ]
        },
        {
          "output_type": "display_data",
          "data": {
            "text/plain": [
              "array([[0, 1, 2],\n",
              "       [3, 4, 5],\n",
              "       [6, 7, 8]])"
            ]
          },
          "metadata": {}
        }
      ]
    },
    {
      "cell_type": "code",
      "metadata": {
        "colab": {
          "base_uri": "https://localhost:8080/"
        },
        "id": "5207a184",
        "outputId": "6b3077e9-7d40-4f9b-e1e1-66728fd0c1e3"
      },
      "source": [
        "import numpy as np\n",
        "\n",
        "# 3. Use boolean masking to filter numbers greater than 50\n",
        "arr_mask = np.array([10, 60, 30, 80, 20, 70, 40, 90])\n",
        "greater_than_50_mask = arr_mask > 50\n",
        "filtered_numbers = arr_mask[greater_than_50_mask]\n",
        "print(\"Numbers greater than 50 using boolean masking:\", filtered_numbers)"
      ],
      "execution_count": null,
      "outputs": [
        {
          "output_type": "stream",
          "name": "stdout",
          "text": [
            "Numbers greater than 50 using boolean masking: [60 80 70 90]\n"
          ]
        }
      ]
    }
  ]
}