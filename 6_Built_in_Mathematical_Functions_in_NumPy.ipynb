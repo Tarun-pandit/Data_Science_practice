{
  "nbformat": 4,
  "nbformat_minor": 0,
  "metadata": {
    "colab": {
      "provenance": [],
      "authorship_tag": "ABX9TyOYCZrsq1f55tSaVwj0E5dV",
      "include_colab_link": true
    },
    "kernelspec": {
      "name": "python3",
      "display_name": "Python 3"
    },
    "language_info": {
      "name": "python"
    }
  },
  "cells": [
    {
      "cell_type": "markdown",
      "metadata": {
        "id": "view-in-github",
        "colab_type": "text"
      },
      "source": [
        "<a href=\"https://colab.research.google.com/github/Tarun-pandit/Data_Science_practice/blob/DATA_analysis_using_NUMPY/6_Built_in_Mathematical_Functions_in_NumPy.ipynb\" target=\"_parent\"><img src=\"https://colab.research.google.com/assets/colab-badge.svg\" alt=\"Open In Colab\"/></a>"
      ]
    },
    {
      "cell_type": "code",
      "source": [
        "import numpy as np\n",
        "arr = np.array([[1, 2, 3], [4, 5, 6], [7, 8, 9]])\n",
        "arr\n"
      ],
      "metadata": {
        "colab": {
          "base_uri": "https://localhost:8080/"
        },
        "id": "IJGzTe0MPGos",
        "outputId": "406d14ca-dc0d-4f35-f810-7747bd261cc5"
      },
      "execution_count": null,
      "outputs": [
        {
          "output_type": "execute_result",
          "data": {
            "text/plain": [
              "array([[1, 2, 3],\n",
              "       [4, 5, 6],\n",
              "       [7, 8, 9]])"
            ]
          },
          "metadata": {},
          "execution_count": 10
        }
      ]
    },
    {
      "cell_type": "code",
      "source": [
        "arr2 = np.array([[1, 2, 3], [4, 5, 6], [7, 8, 9]])\n",
        "arr2"
      ],
      "metadata": {
        "colab": {
          "base_uri": "https://localhost:8080/"
        },
        "id": "Wr3lqlN-RBKG",
        "outputId": "2fe77a2e-5f46-499c-ce1d-6c6d6b18b3e3"
      },
      "execution_count": null,
      "outputs": [
        {
          "output_type": "execute_result",
          "data": {
            "text/plain": [
              "array([[1, 2, 3],\n",
              "       [4, 5, 6],\n",
              "       [7, 8, 9]])"
            ]
          },
          "metadata": {},
          "execution_count": 19
        }
      ]
    },
    {
      "cell_type": "markdown",
      "source": [
        "np.mean() – Compute the **mean** (average) of an array.\n",
        "\n",
        "\n",
        "\n"
      ],
      "metadata": {
        "id": "A_3cpJSGO76r"
      }
    },
    {
      "cell_type": "code",
      "execution_count": null,
      "metadata": {
        "colab": {
          "base_uri": "https://localhost:8080/"
        },
        "id": "1NIsMg0yOlkA",
        "outputId": "67975b7e-ecf5-4e45-d9f5-9f1ee2977dbe"
      },
      "outputs": [
        {
          "output_type": "execute_result",
          "data": {
            "text/plain": [
              "np.float64(5.0)"
            ]
          },
          "metadata": {},
          "execution_count": 11
        }
      ],
      "source": [
        "np.mean(arr)"
      ]
    },
    {
      "cell_type": "markdown",
      "source": [
        "np.std() – Compute the **standard deviation ** of an array."
      ],
      "metadata": {
        "id": "TT0JidyyPEs9"
      }
    },
    {
      "cell_type": "code",
      "source": [
        "np.std(arr)"
      ],
      "metadata": {
        "colab": {
          "base_uri": "https://localhost:8080/"
        },
        "id": "GREs_D_jPlXh",
        "outputId": "a6c3cf6a-a14e-4655-f512-e1cfced6ddb8"
      },
      "execution_count": null,
      "outputs": [
        {
          "output_type": "execute_result",
          "data": {
            "text/plain": [
              "np.float64(2.581988897471611)"
            ]
          },
          "metadata": {},
          "execution_count": 12
        }
      ]
    },
    {
      "cell_type": "markdown",
      "source": [
        "np.var() – Compute the **variance** of an array."
      ],
      "metadata": {
        "id": "yRSDVvGIPoG8"
      }
    },
    {
      "cell_type": "code",
      "source": [
        "np.var(arr)"
      ],
      "metadata": {
        "colab": {
          "base_uri": "https://localhost:8080/"
        },
        "id": "vlOOfcwXPsv4",
        "outputId": "b6cf0dcc-020e-48d1-c74d-790e9c22a3cb"
      },
      "execution_count": null,
      "outputs": [
        {
          "output_type": "execute_result",
          "data": {
            "text/plain": [
              "np.float64(6.666666666666667)"
            ]
          },
          "metadata": {},
          "execution_count": 13
        }
      ]
    },
    {
      "cell_type": "markdown",
      "source": [
        "np.min() – Compute the **minimum** value of an array."
      ],
      "metadata": {
        "id": "tr3XBBbOPz5e"
      }
    },
    {
      "cell_type": "code",
      "source": [
        "np.max(arr)"
      ],
      "metadata": {
        "colab": {
          "base_uri": "https://localhost:8080/"
        },
        "id": "0ticG9ADP3Zd",
        "outputId": "7c787642-4a02-4861-f7e5-3b25c30ae60e"
      },
      "execution_count": null,
      "outputs": [
        {
          "output_type": "execute_result",
          "data": {
            "text/plain": [
              "np.int64(9)"
            ]
          },
          "metadata": {},
          "execution_count": 15
        }
      ]
    },
    {
      "cell_type": "markdown",
      "source": [
        "np.sum() – Compute the **sum** of all elements in an array."
      ],
      "metadata": {
        "id": "AE9hjTblP9fX"
      }
    },
    {
      "cell_type": "code",
      "source": [
        "np.sum(arr)"
      ],
      "metadata": {
        "colab": {
          "base_uri": "https://localhost:8080/"
        },
        "id": "bpXqFGozP4Nq",
        "outputId": "bb1c171d-d630-428a-bd58-2aed9e0e3dde"
      },
      "execution_count": null,
      "outputs": [
        {
          "output_type": "execute_result",
          "data": {
            "text/plain": [
              "np.int64(45)"
            ]
          },
          "metadata": {},
          "execution_count": 16
        }
      ]
    },
    {
      "cell_type": "markdown",
      "source": [
        "np.prod() – Compute the **product** of all elements in an array."
      ],
      "metadata": {
        "id": "bTrkyNO_QUXx"
      }
    },
    {
      "cell_type": "code",
      "source": [
        "np.prod(arr)"
      ],
      "metadata": {
        "colab": {
          "base_uri": "https://localhost:8080/"
        },
        "id": "5RfAq1OoQEzy",
        "outputId": "a983fc16-a978-49ca-ef66-f9e74d3aa299"
      },
      "execution_count": null,
      "outputs": [
        {
          "output_type": "execute_result",
          "data": {
            "text/plain": [
              "np.int64(362880)"
            ]
          },
          "metadata": {},
          "execution_count": 17
        }
      ]
    },
    {
      "cell_type": "markdown",
      "source": [
        "np.median() – Compute the **median** of an array."
      ],
      "metadata": {
        "id": "LxYrsTJLQZl0"
      }
    },
    {
      "cell_type": "code",
      "source": [
        "np.median(arr)"
      ],
      "metadata": {
        "colab": {
          "base_uri": "https://localhost:8080/"
        },
        "id": "e7e2Ybz3Qacs",
        "outputId": "38187588-d483-461e-9eaa-8b2964fb5d1c"
      },
      "execution_count": null,
      "outputs": [
        {
          "output_type": "execute_result",
          "data": {
            "text/plain": [
              "np.float64(5.0)"
            ]
          },
          "metadata": {},
          "execution_count": 18
        }
      ]
    },
    {
      "cell_type": "markdown",
      "metadata": {
        "id": "113bb5e9"
      },
      "source": [
        "`np.percentile()` computes the q-th percentile of the data along the specified axis. Here, it calculates the 50th percentile, which is the median."
      ]
    },
    {
      "cell_type": "code",
      "metadata": {
        "colab": {
          "base_uri": "https://localhost:8080/"
        },
        "id": "e230abd9",
        "outputId": "b4a89281-869a-4ff3-a7e2-001f947df7c6"
      },
      "source": [
        "np.percentile(arr, 50)  # For the 50th percentile (median)"
      ],
      "execution_count": null,
      "outputs": [
        {
          "output_type": "execute_result",
          "data": {
            "text/plain": [
              "np.float64(5.0)"
            ]
          },
          "metadata": {},
          "execution_count": 30
        }
      ]
    },
    {
      "cell_type": "markdown",
      "metadata": {
        "id": "369224aa"
      },
      "source": [
        "`np.argmin()` returns the indices of the minimum values along an axis. In this case, it returns the index of the minimum value in the flattened array."
      ]
    },
    {
      "cell_type": "code",
      "metadata": {
        "colab": {
          "base_uri": "https://localhost:8080/"
        },
        "id": "135321a9",
        "outputId": "9f6d5f79-42c1-475e-e969-8b387ccdf648"
      },
      "source": [
        "np.argmin(arr)"
      ],
      "execution_count": null,
      "outputs": [
        {
          "output_type": "execute_result",
          "data": {
            "text/plain": [
              "np.int64(0)"
            ]
          },
          "metadata": {},
          "execution_count": 31
        }
      ]
    },
    {
      "cell_type": "markdown",
      "metadata": {
        "id": "83ebdfab"
      },
      "source": [
        "`np.argmax()` returns the indices of the maximum values along an axis. In this case, it returns the index of the maximum value in the flattened array."
      ]
    },
    {
      "cell_type": "code",
      "metadata": {
        "colab": {
          "base_uri": "https://localhost:8080/"
        },
        "id": "3a7a8789",
        "outputId": "77f4d8d8-6443-4c61-a8c3-1204d15adb81"
      },
      "source": [
        "np.argmax(arr)"
      ],
      "execution_count": null,
      "outputs": [
        {
          "output_type": "execute_result",
          "data": {
            "text/plain": [
              "np.int64(8)"
            ]
          },
          "metadata": {},
          "execution_count": 32
        }
      ]
    },
    {
      "cell_type": "markdown",
      "metadata": {
        "id": "05d917b4"
      },
      "source": [
        "`np.corrcoef()` returns the Pearson product-moment correlation coefficients of a dataset. It calculates the correlation matrix between the rows of the input arrays."
      ]
    },
    {
      "cell_type": "code",
      "metadata": {
        "colab": {
          "base_uri": "https://localhost:8080/"
        },
        "id": "9fd09772",
        "outputId": "bb52b23a-1b4d-4e61-f504-de0736015f13"
      },
      "source": [
        "np.corrcoef(arr, arr2)"
      ],
      "execution_count": null,
      "outputs": [
        {
          "output_type": "execute_result",
          "data": {
            "text/plain": [
              "array([[1., 1., 1., 1., 1., 1.],\n",
              "       [1., 1., 1., 1., 1., 1.],\n",
              "       [1., 1., 1., 1., 1., 1.],\n",
              "       [1., 1., 1., 1., 1., 1.],\n",
              "       [1., 1., 1., 1., 1., 1.],\n",
              "       [1., 1., 1., 1., 1., 1.]])"
            ]
          },
          "metadata": {},
          "execution_count": 33
        }
      ]
    },
    {
      "cell_type": "markdown",
      "metadata": {
        "id": "60a2f65f"
      },
      "source": [
        "`np.unique()` returns the sorted unique elements of an array."
      ]
    },
    {
      "cell_type": "code",
      "metadata": {
        "colab": {
          "base_uri": "https://localhost:8080/"
        },
        "id": "42a3c89c",
        "outputId": "e88a7b9b-5c82-4e30-cc92-1f3e07b6f318"
      },
      "source": [
        "np.unique(arr)"
      ],
      "execution_count": null,
      "outputs": [
        {
          "output_type": "execute_result",
          "data": {
            "text/plain": [
              "array([1, 2, 3, 4, 5, 6, 7, 8, 9])"
            ]
          },
          "metadata": {},
          "execution_count": 34
        }
      ]
    },
    {
      "cell_type": "markdown",
      "metadata": {
        "id": "1506d409"
      },
      "source": [
        "`np.diff()` calculates the n-th discrete difference along the given axis. By default, it calculates the difference between consecutive elements along the last axis."
      ]
    },
    {
      "cell_type": "code",
      "metadata": {
        "colab": {
          "base_uri": "https://localhost:8080/"
        },
        "id": "23e4f568",
        "outputId": "df7f8a02-0222-41a3-8360-854df12b167e"
      },
      "source": [
        "np.diff(arr)"
      ],
      "execution_count": null,
      "outputs": [
        {
          "output_type": "execute_result",
          "data": {
            "text/plain": [
              "array([[1, 1],\n",
              "       [1, 1],\n",
              "       [1, 1]])"
            ]
          },
          "metadata": {},
          "execution_count": 35
        }
      ]
    },
    {
      "cell_type": "markdown",
      "metadata": {
        "id": "a78913f6"
      },
      "source": [
        "`np.cumsum()` returns the cumulative sum of the elements along a given axis. By default, it calculates the cumulative sum along the flattened array."
      ]
    },
    {
      "cell_type": "code",
      "metadata": {
        "colab": {
          "base_uri": "https://localhost:8080/"
        },
        "id": "650453ba",
        "outputId": "478c1fdf-63b6-4222-9dd8-64d9b5c5f461"
      },
      "source": [
        "np.cumsum(arr)"
      ],
      "execution_count": null,
      "outputs": [
        {
          "output_type": "execute_result",
          "data": {
            "text/plain": [
              "array([ 1,  3,  6, 10, 15, 21, 28, 36, 45])"
            ]
          },
          "metadata": {},
          "execution_count": 36
        }
      ]
    },
    {
      "cell_type": "markdown",
      "metadata": {
        "id": "dfd30e2f"
      },
      "source": [
        "`np.linspace()` returns evenly spaced numbers over a specified interval. It takes the start, stop, and number of samples to generate."
      ]
    },
    {
      "cell_type": "code",
      "metadata": {
        "colab": {
          "base_uri": "https://localhost:8080/"
        },
        "id": "25c9a6c2",
        "outputId": "8b33355d-818f-428f-c549-614bbac95012"
      },
      "source": [
        "np.linspace(0, 10, 5)  # 5 numbers from 0 to 10"
      ],
      "execution_count": null,
      "outputs": [
        {
          "output_type": "execute_result",
          "data": {
            "text/plain": [
              "array([ 0. ,  2.5,  5. ,  7.5, 10. ])"
            ]
          },
          "metadata": {},
          "execution_count": 37
        }
      ]
    },
    {
      "cell_type": "markdown",
      "metadata": {
        "id": "4d18c7a0"
      },
      "source": [
        "`np.log()` calculates the natural logarithm of each element in the input array."
      ]
    },
    {
      "cell_type": "code",
      "metadata": {
        "colab": {
          "base_uri": "https://localhost:8080/"
        },
        "id": "0deff981",
        "outputId": "1008a198-b7fb-4ccb-cd26-5f6c0a02561b"
      },
      "source": [
        "np.log(arr)"
      ],
      "execution_count": null,
      "outputs": [
        {
          "output_type": "execute_result",
          "data": {
            "text/plain": [
              "array([[0.        , 0.69314718, 1.09861229],\n",
              "       [1.38629436, 1.60943791, 1.79175947],\n",
              "       [1.94591015, 2.07944154, 2.19722458]])"
            ]
          },
          "metadata": {},
          "execution_count": 38
        }
      ]
    },
    {
      "cell_type": "markdown",
      "metadata": {
        "id": "e7b6444a"
      },
      "source": [
        "`np.exp()` calculates the exponential of each element in the input array."
      ]
    },
    {
      "cell_type": "code",
      "metadata": {
        "colab": {
          "base_uri": "https://localhost:8080/"
        },
        "id": "2b1e084c",
        "outputId": "838af377-4cad-48d5-8f62-f2a10673c6dd"
      },
      "source": [
        "np.exp(arr)"
      ],
      "execution_count": null,
      "outputs": [
        {
          "output_type": "execute_result",
          "data": {
            "text/plain": [
              "array([[2.71828183e+00, 7.38905610e+00, 2.00855369e+01],\n",
              "       [5.45981500e+01, 1.48413159e+02, 4.03428793e+02],\n",
              "       [1.09663316e+03, 2.98095799e+03, 8.10308393e+03]])"
            ]
          },
          "metadata": {},
          "execution_count": 39
        }
      ]
    },
    {
      "cell_type": "markdown",
      "source": [
        "# ***These methods are used for performing mathematical and statistical operations with NumPy***"
      ],
      "metadata": {
        "id": "2E2rGx2iSNBC"
      }
    },
    {
      "cell_type": "markdown",
      "metadata": {
        "id": "d94d5d75"
      },
      "source": [
        "`np.mean()`: This function calculates the arithmetic mean (average) of the elements in a NumPy array. It sums up all the elements and divides by the total number of elements."
      ]
    },
    {
      "cell_type": "markdown",
      "metadata": {
        "id": "ea8fe163"
      },
      "source": [
        "`np.std()`: This function computes the standard deviation of the elements in a NumPy array. The standard deviation is a measure of the amount of variation or dispersion of a set of values. A low standard deviation indicates that the values tend to be close to the mean, while a high standard deviation indicates that the values are spread out over a wider range."
      ]
    },
    {
      "cell_type": "markdown",
      "metadata": {
        "id": "02887ce0"
      },
      "source": [
        "`np.var()`: This function calculates the variance of the elements in a NumPy array. The variance is the average of the squared differences from the mean. It is another measure of the spread or dispersion of a dataset."
      ]
    },
    {
      "cell_type": "markdown",
      "metadata": {
        "id": "3874678a"
      },
      "source": [
        "`np.min()`: This function finds the minimum value among all the elements in a NumPy array."
      ]
    },
    {
      "cell_type": "markdown",
      "metadata": {
        "id": "37d16704"
      },
      "source": [
        "`np.sum()`: This function calculates the sum of all the elements in a NumPy array."
      ]
    },
    {
      "cell_type": "markdown",
      "metadata": {
        "id": "19c173d7"
      },
      "source": [
        "`np.prod()`: This function computes the product of all the elements in a NumPy array. It multiplies all the elements together."
      ]
    },
    {
      "cell_type": "markdown",
      "metadata": {
        "id": "3fdef020"
      },
      "source": [
        "`np.median()`: This function calculates the median of the elements in a NumPy array. The median is the middle value in a dataset that is ordered from least to greatest. If there is an even number of elements, the median is the average of the two middle values."
      ]
    },
    {
      "cell_type": "markdown",
      "metadata": {
        "id": "d2fa55c1"
      },
      "source": [
        "`np.percentile(arr, 50)`: This function computes the q-th percentile of the data along the specified axis. The 50th percentile is equivalent to the median, representing the value below which 50% of the data falls."
      ]
    },
    {
      "cell_type": "markdown",
      "metadata": {
        "id": "984eb657"
      },
      "source": [
        "`np.argmin()`: This function returns the indices of the minimum values along an axis. If the array is flattened, it returns the index of the overall minimum value. You can specify an axis to find the minimum index along that axis."
      ]
    },
    {
      "cell_type": "markdown",
      "metadata": {
        "id": "eea2ee2b"
      },
      "source": [
        "`np.argmax()`: This function returns the indices of the maximum values along an axis. If the array is flattened, it returns the index of the overall maximum value. You can specify an axis to find the maximum index along that axis."
      ]
    },
    {
      "cell_type": "markdown",
      "metadata": {
        "id": "f3415d3a"
      },
      "source": [
        "`np.corrcoef(arr, arr2)`: This function returns the Pearson product-moment correlation coefficients of a dataset. It calculates the correlation matrix between the rows of the input arrays. The correlation coefficient measures the linear relationship between two sets of data."
      ]
    },
    {
      "cell_type": "markdown",
      "metadata": {
        "id": "c60c4a60"
      },
      "source": [
        "`np.unique()`: This function returns the sorted unique elements of an array. It removes duplicate values and returns the remaining elements in ascending order."
      ]
    },
    {
      "cell_type": "markdown",
      "metadata": {
        "id": "a207bc3c"
      },
      "source": [
        "`np.diff()`: This function calculates the n-th discrete difference along the given axis. By default, it calculates the difference between consecutive elements along the last axis. This is useful for finding the rate of change between elements."
      ]
    },
    {
      "cell_type": "markdown",
      "metadata": {
        "id": "f73924f5"
      },
      "source": [
        "`np.cumsum()`: This function returns the cumulative sum of the elements along a given axis. By default, it calculates the cumulative sum along the flattened array. Each element in the output array is the sum of all previous elements up to that point."
      ]
    },
    {
      "cell_type": "markdown",
      "metadata": {
        "id": "19af5a80"
      },
      "source": [
        "`np.linspace(0, 10, 5)`: This function returns evenly spaced numbers over a specified interval. It takes the start value, stop value, and the number of samples to generate (inclusive of the stop value). This is useful for creating sequences of numbers for plotting or other calculations."
      ]
    },
    {
      "cell_type": "markdown",
      "metadata": {
        "id": "9cb075d2"
      },
      "source": [
        "`np.log(arr)`: This function calculates the natural logarithm (base e) of each element in the input array. It applies the logarithm function element-wise."
      ]
    },
    {
      "cell_type": "markdown",
      "metadata": {
        "id": "5422f3f0"
      },
      "source": [
        "`np.exp(arr)`: This function calculates the exponential of each element in the input array. It raises 'e' (Euler's number) to the power of each element in the array element-wise."
      ]
    }
  ]
}