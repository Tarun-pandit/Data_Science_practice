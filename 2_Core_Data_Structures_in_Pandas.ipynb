{
  "nbformat": 4,
  "nbformat_minor": 0,
  "metadata": {
    "colab": {
      "provenance": [],
      "authorship_tag": "ABX9TyPFSlHxo093RwLxo4mVa7I0",
      "include_colab_link": true
    },
    "kernelspec": {
      "name": "python3",
      "display_name": "Python 3"
    },
    "language_info": {
      "name": "python"
    }
  },
  "cells": [
    {
      "cell_type": "markdown",
      "metadata": {
        "id": "view-in-github",
        "colab_type": "text"
      },
      "source": [
        "<a href=\"https://colab.research.google.com/github/Tarun-pandit/Data_Science_practice/blob/DATA_ANALYSIS_USING_PANDAS/2_Core_Data_Structures_in_Pandas.ipynb\" target=\"_parent\"><img src=\"https://colab.research.google.com/assets/colab-badge.svg\" alt=\"Open In Colab\"/></a>"
      ]
    },
    {
      "cell_type": "markdown",
      "source": [
        "Pandas is built on **two main data structures**:\n",
        "\n",
        "1. Series → One-dimensional (like a single\n",
        "column in Excel)\n",
        "2. DataFrame → Two-dimensional (like a full spreadsheet or SQL table)"
      ],
      "metadata": {
        "id": "Shfa3BNhub9k"
      }
    },
    {
      "cell_type": "markdown",
      "source": [
        "# Series — 1D Labeled Array\n",
        "A Series is like a list with labels (index)."
      ],
      "metadata": {
        "id": "SrnhNQ9_v9fw"
      }
    },
    {
      "cell_type": "code",
      "execution_count": 2,
      "metadata": {
        "colab": {
          "base_uri": "https://localhost:8080/"
        },
        "id": "e-w_W0Y_stZ0",
        "outputId": "67a789f7-3301-4255-b8cb-619db51f84ec"
      },
      "outputs": [
        {
          "output_type": "stream",
          "name": "stdout",
          "text": [
            "0    10\n",
            "1    20\n",
            "2    30\n",
            "3    40\n",
            "dtype: int64\n"
          ]
        }
      ],
      "source": [
        "import pandas as pd\n",
        "s = pd.Series([10, 20, 30, 40])\n",
        "print(s)"
      ]
    },
    {
      "cell_type": "code",
      "source": [
        "t = pd.Series([10, 20, 30], index=[\"a\", \"b\", \"c\"])\n",
        "print(t)"
      ],
      "metadata": {
        "colab": {
          "base_uri": "https://localhost:8080/"
        },
        "id": "Muvs5dS0vPlS",
        "outputId": "4b76e372-7698-4e3b-e55b-96877902adb9"
      },
      "execution_count": 4,
      "outputs": [
        {
          "output_type": "stream",
          "name": "stdout",
          "text": [
            "a    10\n",
            "b    20\n",
            "c    30\n",
            "dtype: int64\n"
          ]
        }
      ]
    },
    {
      "cell_type": "markdown",
      "source": [
        "# DataFrame — 2D Labeled Table\n",
        "A DataFrame is like a **dictionary of Series** — multiple columns with labels."
      ],
      "metadata": {
        "id": "BYvqi2tvwHTv"
      }
    },
    {
      "cell_type": "code",
      "source": [
        "data = {\n",
        "    \"name\": [\"Alice\", \"Bob\", \"Charlie\"],\n",
        "    \"age\": [25, 30, 35],\n",
        "    \"city\": [\"Delhi\", \"Mumbai\", \"Bangalore\"]\n",
        "}\n",
        "\n",
        "df = pd.DataFrame(data)\n",
        "print(df)"
      ],
      "metadata": {
        "colab": {
          "base_uri": "https://localhost:8080/"
        },
        "id": "o0D7PfVpwTLF",
        "outputId": "0c5f1dd8-bfe8-4d49-a49c-5cbdf83cb269"
      },
      "execution_count": 20,
      "outputs": [
        {
          "output_type": "stream",
          "name": "stdout",
          "text": [
            "      name  age       city\n",
            "0    Alice   25      Delhi\n",
            "1      Bob   30     Mumbai\n",
            "2  Charlie   35  Bangalore\n"
          ]
        }
      ]
    },
    {
      "cell_type": "code",
      "source": [
        "df.index         # Row labels"
      ],
      "metadata": {
        "colab": {
          "base_uri": "https://localhost:8080/"
        },
        "id": "-qUSOrIv64CM",
        "outputId": "385ccf1a-cd36-40d8-a0f7-3e48c10cf2cb"
      },
      "execution_count": 21,
      "outputs": [
        {
          "output_type": "execute_result",
          "data": {
            "text/plain": [
              "RangeIndex(start=0, stop=3, step=1)"
            ]
          },
          "metadata": {},
          "execution_count": 21
        }
      ]
    },
    {
      "cell_type": "code",
      "source": [
        "df.columns       # Column labels"
      ],
      "metadata": {
        "colab": {
          "base_uri": "https://localhost:8080/"
        },
        "id": "ToEgIRjP7G_D",
        "outputId": "4872a1c4-7322-49e4-c504-91e46850f195"
      },
      "execution_count": 22,
      "outputs": [
        {
          "output_type": "execute_result",
          "data": {
            "text/plain": [
              "Index(['name', 'age', 'city'], dtype='object')"
            ]
          },
          "metadata": {},
          "execution_count": 22
        }
      ]
    },
    {
      "cell_type": "code",
      "source": [
        "df.index = [\"a\", \"b\", \"c\"]\n"
      ],
      "metadata": {
        "id": "24suYyCn7PkV"
      },
      "execution_count": 23,
      "outputs": []
    },
    {
      "cell_type": "code",
      "source": [
        "df.columns = [\"Name\", \"Age\", \"City\"]"
      ],
      "metadata": {
        "id": "XasIEPaL7gjp"
      },
      "execution_count": 24,
      "outputs": []
    },
    {
      "cell_type": "code",
      "source": [
        "print(df)"
      ],
      "metadata": {
        "colab": {
          "base_uri": "https://localhost:8080/"
        },
        "id": "1YX4FXWM7W1n",
        "outputId": "50d46aee-678b-4f1a-8174-ff3036b3c9c5"
      },
      "execution_count": 25,
      "outputs": [
        {
          "output_type": "stream",
          "name": "stdout",
          "text": [
            "      Name  Age       City\n",
            "a    Alice   25      Delhi\n",
            "b      Bob   30     Mumbai\n",
            "c  Charlie   35  Bangalore\n"
          ]
        }
      ]
    },
    {
      "cell_type": "markdown",
      "source": [
        "# Index and Labels\n",
        "Every Series and DataFrame has an **Index** — it helps with:\n",
        "\n",
        "* Fast lookups\n",
        "* Aligning data\n",
        "* Merging & joining\n",
        "* Time series operations"
      ],
      "metadata": {
        "id": "uBp-DnLW6rWH"
      }
    },
    {
      "cell_type": "markdown",
      "source": [
        "**Summary**\n",
        "* Series = 1D array with labels\n",
        "* DataFrame = 2D table with rows + columns\n",
        "* Both come with index and are the heart of Pandas"
      ],
      "metadata": {
        "id": "oV0FeR5y7wlG"
      }
    }
  ]
}