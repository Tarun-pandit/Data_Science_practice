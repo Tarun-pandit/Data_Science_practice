{
  "nbformat": 4,
  "nbformat_minor": 0,
  "metadata": {
    "colab": {
      "provenance": [],
      "authorship_tag": "ABX9TyPPaErOM39vjJW1uw5oMphY",
      "include_colab_link": true
    },
    "kernelspec": {
      "name": "python3",
      "display_name": "Python 3"
    },
    "language_info": {
      "name": "python"
    }
  },
  "cells": [
    {
      "cell_type": "markdown",
      "metadata": {
        "id": "view-in-github",
        "colab_type": "text"
      },
      "source": [
        "<a href=\"https://colab.research.google.com/github/Tarun-pandit/Data_Science_practice/blob/main/Data_Types_in_NumPy.ipynb\" target=\"_parent\"><img src=\"https://colab.research.google.com/assets/colab-badge.svg\" alt=\"Open In Colab\"/></a>"
      ]
    },
    {
      "cell_type": "code",
      "execution_count": 28,
      "metadata": {
        "id": "8ZkVKRWO5ntI"
      },
      "outputs": [],
      "source": [
        "import numpy as np # Import the numpy library"
      ]
    },
    {
      "cell_type": "code",
      "source": [
        "arr = np.array([23,4,3,23]) # Create a NumPy array with integer elements"
      ],
      "metadata": {
        "id": "wNx0OBjf6pNW"
      },
      "execution_count": 29,
      "outputs": []
    },
    {
      "cell_type": "code",
      "source": [
        "'''Common Data Types in NumPy:\n",
        "int32, int64: Integer types with different bit sizes.\n",
        "float32, float64: Floating-point types with different precision.\n",
        "bool: Boolean data type.\n",
        "complex64, complex128: Complex number types.\n",
        "object: For storing objects (e.g., Python objects, strings).\n",
        "You can check the dtype of a NumPy array using the .dtype attribute.'''\n",
        "arr.dtype # Check the data type of the array"
      ],
      "metadata": {
        "colab": {
          "base_uri": "https://localhost:8080/"
        },
        "id": "SdWFo-vv60s0",
        "outputId": "e4ebdf61-87a0-4d22-92a6-3f268662f26d"
      },
      "execution_count": 30,
      "outputs": [
        {
          "output_type": "execute_result",
          "data": {
            "text/plain": [
              "dtype('int64')"
            ]
          },
          "metadata": {},
          "execution_count": 30
        }
      ]
    },
    {
      "cell_type": "code",
      "source": [
        "'''2. Changing Data Types\n",
        "You can cast (convert) the data type of an array using the .astype() method. This is useful when you need to change the type for a specific operation or when you want to reduce memory usage.\n",
        "\n",
        "Example: Changing Data Types'''\n",
        "arr.astype(np.float64) # Convert the array to float64 data type"
      ],
      "metadata": {
        "colab": {
          "base_uri": "https://localhost:8080/"
        },
        "id": "HpB8nHRH63Zi",
        "outputId": "125ba845-ed7a-4973-8d93-1228307de3d3"
      },
      "execution_count": 31,
      "outputs": [
        {
          "output_type": "execute_result",
          "data": {
            "text/plain": [
              "array([23.,  4.,  3., 23.])"
            ]
          },
          "metadata": {},
          "execution_count": 31
        }
      ]
    },
    {
      "cell_type": "code",
      "source": [
        "'''3. Why Data Types Matter in NumPy\n",
        "The choice of data type affects:\n",
        "\n",
        "Memory Usage: Smaller data types use less memory.\n",
        "Performance: Operations on smaller data types are faster due to less data being processed.\n",
        "Precision: Choosing the appropriate data type ensures that you don't lose precision (e.g., using float32 instead of float64 if you don't need that extra precision).\n",
        "Example: Memory Usage'''\n",
        "arr_int64 = np.array([1, 2, 3], dtype=np.int64)\n",
        "arr_int32 = np.array([1, 2, 3], dtype=np.int32)\n",
        "\n",
        "print(arr_int64.nbytes)  # Output: 24 bytes (3 elements * 8 bytes each)\n",
        "print(arr_int32.nbytes)  # Output: 12 bytes (3 elements * 4 bytes each)"
      ],
      "metadata": {
        "colab": {
          "base_uri": "https://localhost:8080/"
        },
        "id": "W0A3A1-N_q7i",
        "outputId": "2ebb56c1-7b0f-45f0-8e90-8f25f9225204"
      },
      "execution_count": 32,
      "outputs": [
        {
          "output_type": "stream",
          "name": "stdout",
          "text": [
            "24\n",
            "12\n"
          ]
        }
      ]
    },
    {
      "cell_type": "code",
      "source": [
        "arr2 = np.array([23,4,3,23], dtype=np.float32) # Create a NumPy array with float32 data type\n",
        "arr2 # Display the array"
      ],
      "metadata": {
        "colab": {
          "base_uri": "https://localhost:8080/"
        },
        "id": "V9MoKjrX7rSL",
        "outputId": "9a852782-9b23-41ed-9571-ff62ddee7e4f"
      },
      "execution_count": 33,
      "outputs": [
        {
          "output_type": "execute_result",
          "data": {
            "text/plain": [
              "array([23.,  4.,  3., 23.], dtype=float32)"
            ]
          },
          "metadata": {},
          "execution_count": 33
        }
      ]
    },
    {
      "cell_type": "code",
      "source": [
        "arr2.nbytes # Check the number of bytes consumed by arr2\n"
      ],
      "metadata": {
        "colab": {
          "base_uri": "https://localhost:8080/"
        },
        "id": "QzO8OAxC84H8",
        "outputId": "8da05f0b-b7a0-4d5c-c4be-3018304a7285"
      },
      "execution_count": 47,
      "outputs": [
        {
          "output_type": "execute_result",
          "data": {
            "text/plain": [
              "16"
            ]
          },
          "metadata": {},
          "execution_count": 47
        }
      ]
    },
    {
      "cell_type": "code",
      "source": [
        "arr.nbytes # Check the number of bytes consumed by arr"
      ],
      "metadata": {
        "colab": {
          "base_uri": "https://localhost:8080/"
        },
        "id": "ZNA1qQ0j87Tx",
        "outputId": "fc004403-4183-4f85-962e-5b00e1cc2115"
      },
      "execution_count": 51,
      "outputs": [
        {
          "output_type": "execute_result",
          "data": {
            "text/plain": [
              "120"
            ]
          },
          "metadata": {},
          "execution_count": 51
        }
      ]
    },
    {
      "cell_type": "code",
      "source": [
        "'''4. Complex Numbers\n",
        "NumPy also supports complex numbers, which consist of a real and imaginary part. You can store complex numbers using complex64 or complex128 data types.\n",
        "\n",
        "Example: Complex Numbers'''\n",
        "complex_arr = np.array([1 + 2j, 3 - 4j, 5 + 0j, 0 - 6j], dtype=np.complex128) # Create a NumPy array with complex128 data type\n",
        "display(complex_arr) # Display the complex array"
      ],
      "metadata": {
        "colab": {
          "base_uri": "https://localhost:8080/",
          "height": 34
        },
        "id": "zk0nvqSc89pi",
        "outputId": "b91a44fb-dd08-460e-ba84-8789a21998af"
      },
      "execution_count": 37,
      "outputs": [
        {
          "output_type": "display_data",
          "data": {
            "text/plain": [
              "array([1.+2.j, 3.-4.j, 5.+0.j, 0.-6.j])"
            ]
          },
          "metadata": {}
        }
      ]
    },
    {
      "cell_type": "code",
      "metadata": {
        "colab": {
          "base_uri": "https://localhost:8080/",
          "height": 34
        },
        "id": "a6de617e",
        "outputId": "3d61dac5-0787-4d02-b956-36517aecde8e"
      },
      "source": [
        "'''5. Object Data Type\n",
        "If you need to store mixed or complex data types (e.g., Python objects), you can use dtype='object'. However, this type sacrifices performance, so it should only be used when absolutely necessary.\n",
        "\n",
        "Example: Object Data Type'''\n",
        "object_arr = np.array([1, 'hello', [1, 2, 3], {'a': 1}], dtype=object) # Create a NumPy array with object data type\n",
        "display(object_arr) # Display the object array"
      ],
      "execution_count": 38,
      "outputs": [
        {
          "output_type": "display_data",
          "data": {
            "text/plain": [
              "array([1, 'hello', list([1, 2, 3]), {'a': 1}], dtype=object)"
            ]
          },
          "metadata": {}
        }
      ]
    },
    {
      "cell_type": "code",
      "source": [
        "'''6. String Data Type in NumPy\n",
        "Although NumPy arrays typically store numerical data, you can also store strings by using the dtype='str' or dtype='U' (Unicode string) format. However, working with strings in NumPy is less efficient than using lists or Python's built-in string types.\n",
        "\n",
        "Example: String Array'''\n",
        "arr = np.array(['apple', 'banana', 'cherry'], dtype='U10')  # Create a NumPy array with Unicode string data type ('U10' for strings up to 10 characters)\n",
        "print(arr) # Print the string array"
      ],
      "metadata": {
        "colab": {
          "base_uri": "https://localhost:8080/"
        },
        "id": "_wM1fFyb99zG",
        "outputId": "15e2eb05-0018-46b4-8807-c72ce6737f00"
      },
      "execution_count": 39,
      "outputs": [
        {
          "output_type": "stream",
          "name": "stdout",
          "text": [
            "['apple' 'banana' 'cherry']\n"
          ]
        }
      ]
    },
    {
      "cell_type": "markdown",
      "metadata": {
        "id": "c2611107"
      },
      "source": [
        "### Pros and Cons of NumPy Data Types\n",
        "\n",
        "Choosing the appropriate data type in NumPy is crucial for optimizing memory usage, improving performance, and ensuring data integrity. Here's a breakdown of the pros and cons:\n",
        "\n",
        "**Pros:**\n",
        "\n",
        "*   **Memory Efficiency:** Using the correct data type can significantly reduce memory usage. For example, using `float32` instead of `float64` for floating-point numbers can halve the memory required. Similarly, using smaller integer types (`int8`, `int16`, `int32`) when appropriate can save memory.\n",
        "*   **Performance:** Operations on arrays with smaller or simpler data types are generally faster. This is because the processor can perform operations on these data types more efficiently. For example, operations on integer arrays are typically faster than operations on floating-point arrays, and operations on fixed-size data types are faster than operations on `object` arrays.\n",
        "*   **Data Integrity:** Specifying a data type ensures that the array stores data in a consistent format, preventing unexpected behavior or errors that might arise from mixed data types."
      ]
    },
    {
      "cell_type": "markdown",
      "metadata": {
        "id": "5379451e"
      },
      "source": [
        "**Cons:**\n",
        "\n",
        "*   **Data Loss/Precision Issues:** Using a data type with insufficient range or precision can lead to data loss or inaccurate results. For example, trying to store a large integer in an `int8` array will result in an overflow. Using `float32` instead of `float64` might not be suitable for calculations requiring high precision.\n",
        "*   **Complexity with Mixed Data Types:** While NumPy arrays are designed to be homogeneous (contain elements of the same data type), the `object` data type allows for heterogeneous arrays. However, this comes at the cost of performance and memory efficiency, as NumPy cannot optimize operations on `object` arrays as effectively as it can for arrays with fixed-size data types.\n",
        "*   **Type Casting Overhead:** Converting between data types using `astype()` can introduce some overhead, especially for large arrays. It's generally more efficient to create arrays with the desired data type from the beginning if possible.\n",
        "\n",
        "In summary, selecting the data type that best suits the nature and range of your data while considering the trade-offs in terms of memory, performance, and precision is essential."
      ]
    }
  ]
}