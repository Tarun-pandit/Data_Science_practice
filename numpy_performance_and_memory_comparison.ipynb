{
  "nbformat": 4,
  "nbformat_minor": 0,
  "metadata": {
    "colab": {
      "provenance": [],
      "authorship_tag": "ABX9TyOJ0p8v9vKBvSsLyNYtpx98",
      "include_colab_link": true
    },
    "kernelspec": {
      "name": "python3",
      "display_name": "Python 3"
    },
    "language_info": {
      "name": "python"
    }
  },
  "cells": [
    {
      "cell_type": "markdown",
      "metadata": {
        "id": "view-in-github",
        "colab_type": "text"
      },
      "source": [
        "<a href=\"https://colab.research.google.com/github/Tarun-pandit/Data_Science_practice/blob/NUMPY/numpy_performance_and_memory_comparison.ipynb\" target=\"_parent\"><img src=\"https://colab.research.google.com/assets/colab-badge.svg\" alt=\"Open In Colab\"/></a>"
      ]
    },
    {
      "cell_type": "code",
      "execution_count": 4,
      "metadata": {
        "colab": {
          "base_uri": "https://localhost:8080/"
        },
        "id": "qKd_nG5cIYss",
        "outputId": "93835139-9c44-4fcf-b529-b4d4b68a1374"
      },
      "outputs": [
        {
          "output_type": "stream",
          "name": "stdout",
          "text": [
            "0.06933403015136719\n"
          ]
        }
      ],
      "source": [
        "import numpy as np\n",
        "import time\n",
        "## Using python list\n",
        "size = 1000000\n",
        "l1 = list(range(size))\n",
        "l2 = list(range(size))\n",
        "start = time.time()\n",
        "add = [x+y for x,y in zip(l1,l2)]\n",
        "end = time.time()\n",
        "print(end-start)\n"
      ]
    },
    {
      "cell_type": "code",
      "source": [
        "import numpy as np\n",
        "import time\n",
        "## Using numpy\n",
        "size = 100000000\n",
        "l1 = np.arange(size)\n",
        "l2 = np.arange(size)\n",
        "start = time.time()\n",
        "add = l1+l2\n",
        "end = time.time()\n",
        "print(end-start)"
      ],
      "metadata": {
        "colab": {
          "base_uri": "https://localhost:8080/"
        },
        "id": "Zi2_nEYCMAOo",
        "outputId": "500f2a40-357b-4eb9-d6e3-b41e571e83a5"
      },
      "execution_count": 18,
      "outputs": [
        {
          "output_type": "stream",
          "name": "stdout",
          "text": [
            "0.32396364212036133\n"
          ]
        }
      ]
    },
    {
      "cell_type": "code",
      "source": [
        "import sys\n",
        "import numpy as np\n",
        "\n",
        "list_data = list(range(1000))\n",
        "numpy_data = np.array(list_data)\n",
        "\n",
        "# Memory of list structure + elements\n",
        "list_memory_accurate = sys.getsizeof(list_data) + sum(sys.getsizeof(i) for i in list_data)\n",
        "print(list_memory_accurate, \"bytes\")\n",
        "\n",
        "# Memory of NumPy array\n",
        "print(numpy_data.nbytes, \"bytes\")\n"
      ],
      "metadata": {
        "colab": {
          "base_uri": "https://localhost:8080/"
        },
        "id": "vOm3fBKJLTth",
        "outputId": "ef70bcfb-49ed-4007-f453-1f0fee5b1c73"
      },
      "execution_count": 19,
      "outputs": [
        {
          "output_type": "stream",
          "name": "stdout",
          "text": [
            "36056 bytes\n",
            "8000 bytes\n"
          ]
        }
      ]
    }
  ]
}