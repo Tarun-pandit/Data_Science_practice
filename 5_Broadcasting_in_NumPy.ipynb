{
  "nbformat": 4,
  "nbformat_minor": 0,
  "metadata": {
    "colab": {
      "provenance": [],
      "authorship_tag": "ABX9TyM4NqFGk4IOrj1vtK7Hb0kz",
      "include_colab_link": true
    },
    "kernelspec": {
      "name": "python3",
      "display_name": "Python 3"
    },
    "language_info": {
      "name": "python"
    }
  },
  "cells": [
    {
      "cell_type": "markdown",
      "metadata": {
        "id": "view-in-github",
        "colab_type": "text"
      },
      "source": [
        "<a href=\"https://colab.research.google.com/github/Tarun-pandit/Data_Science_practice/blob/DATA_analysis_using_NUMPY/5_Broadcasting_in_NumPy.ipynb\" target=\"_parent\"><img src=\"https://colab.research.google.com/assets/colab-badge.svg\" alt=\"Open In Colab\"/></a>"
      ]
    },
    {
      "cell_type": "code",
      "execution_count": null,
      "metadata": {
        "id": "WoLdJ-4aFpgn"
      },
      "outputs": [],
      "source": [
        "import numpy as np"
      ]
    },
    {
      "cell_type": "markdown",
      "source": [
        "# 1. Why Loops Are Slow\n",
        "In Python, loops are typically slow because:\n",
        "\n",
        "**Python’s interpreter**: Every iteration of the loop requires Python to interpret the loop logic, which is inherently slower than lower-level, compiled code.\n",
        "\n",
        "**High overhead**: Each loop iteration in Python involves additional overhead for function calls, memory access, and index management.\n",
        "\n",
        "While Python loops are convenient, they don’t take advantage of the optimized memory and computation that libraries like NumPy provide.\n",
        "\n",
        "Example: Looping Over Arrays in Python"
      ],
      "metadata": {
        "id": "qxd1z6HNGIrH"
      }
    },
    {
      "cell_type": "code",
      "source": [
        "arr = np.array([1, 2, 3, 4, 5])\n",
        "result = []\n",
        "\n",
        "# Using a loop to square each element (slow)\n",
        "for num in arr:\n",
        "    result.append(num ** 2)\n",
        "\n",
        "print(result)  # Output: [1, 4, 9, 16, 25]"
      ],
      "metadata": {
        "colab": {
          "base_uri": "https://localhost:8080/"
        },
        "id": "HQcpDg8NG_qx",
        "outputId": "d3517492-1ab5-469c-bac5-0abb3fead984"
      },
      "execution_count": null,
      "outputs": [
        {
          "output_type": "stream",
          "name": "stdout",
          "text": [
            "[np.int64(1), np.int64(4), np.int64(9), np.int64(16), np.int64(25)]\n"
          ]
        }
      ]
    },
    {
      "cell_type": "markdown",
      "source": [
        "# 2. Vectorization: Fixing the Loop Problem\n",
        "**Vectorization** allows you to perform operations on entire arrays at once, instead of iterating over elements one by one. This is made possible by **NumPy’s optimized C-based backend** that executes operations in compiled code, which is much faster than Python loops.\n",
        "\n",
        "Vectorized operations are also **more readable** and compact, making your code easier to maintain.\n",
        "\n",
        "**Example: Vectorized Operation**"
      ],
      "metadata": {
        "id": "__GpYuF9HXJg"
      }
    },
    {
      "cell_type": "code",
      "source": [
        "arr = np.array([1, 2, 3, 4, 5])\n",
        "result = arr ** 2  # Vectorized operation\n",
        "print(result)  # Output: [1 4 9 16 25]"
      ],
      "metadata": {
        "colab": {
          "base_uri": "https://localhost:8080/"
        },
        "id": "tSMbrgJHIP4U",
        "outputId": "420db734-cce6-4557-c2f2-39bbc3c486a9"
      },
      "execution_count": null,
      "outputs": [
        {
          "output_type": "stream",
          "name": "stdout",
          "text": [
            "[ 1  4  9 16 25]\n"
          ]
        }
      ]
    },
    {
      "cell_type": "markdown",
      "source": [
        "# Why is it Faster?\n",
        "**Low-level implementation:** NumPy’s vectorized operations are implemented in C (compiled language), which is much faster than Python loops.\n",
        "\n",
        "**Batch processing:** NumPy processes multiple elements in parallel using SIMD (Single Instruction, Multiple Data), allowing multiple operations to be done simultaneously."
      ],
      "metadata": {
        "id": "a4TZN1rmL8Oo"
      }
    },
    {
      "cell_type": "markdown",
      "source": [
        "# 3. Broadcasting: Scaling Arrays Without Extra Memory\n",
        "**Broadcasting** is a powerful feature of NumPy that allows you to perform operations on arrays of different shapes without creating copies. It “stretches” smaller arrays across larger arrays in a memory-efficient way, avoiding the overhead of creating multiple copies of data.\n",
        "\n",
        "**Example: Broadcasting with Scalar**\n",
        "Broadcasting is often used when you want to perform an operation on an array and a scalar value (e.g., add a number to all elements of an array)."
      ],
      "metadata": {
        "id": "qYzOS0RoIskk"
      }
    },
    {
      "cell_type": "code",
      "source": [
        "arr = np.array([1, 2, 3, 4, 5])\n",
        "result = arr + 10  # Broadcasting: 10 is added to all elements\n",
        "print(result)  # Output: [11 12 13 14 15]"
      ],
      "metadata": {
        "colab": {
          "base_uri": "https://localhost:8080/"
        },
        "id": "ul3g3T7aJGtR",
        "outputId": "d5d661d6-38b3-42e0-edec-998199a92150"
      },
      "execution_count": null,
      "outputs": [
        {
          "output_type": "stream",
          "name": "stdout",
          "text": [
            "[11 12 13 14 15]\n"
          ]
        }
      ]
    },
    {
      "cell_type": "markdown",
      "source": [
        "# 4. Broadcasting with Arrays of Different Shapes\n",
        "Broadcasting becomes more powerful when you apply operations on arrays of different shapes. NumPy automatically adjusts the shapes of arrays to make them compatible for element-wise operations, without actually copying the data.\n",
        "\n",
        "**Example: Broadcasting with Two Arrays**"
      ],
      "metadata": {
        "id": "WlWkp0W7JQTT"
      }
    },
    {
      "cell_type": "code",
      "source": [
        "arr1 = np.array([1, 2, 3])\n",
        "arr2 = np.array([10, 20, 30])\n",
        "\n",
        "result = arr1 + arr2  # Element-wise addition\n",
        "print(result)  # Output: [11 22 33]\n",
        "##NumPy automatically aligns the two arrays and performs element-wise addition, treating them as if they have the same shape."
      ],
      "metadata": {
        "colab": {
          "base_uri": "https://localhost:8080/"
        },
        "id": "Oa2WUm94JVIt",
        "outputId": "8b8d035e-18db-469b-a782-f2876292ee73"
      },
      "execution_count": null,
      "outputs": [
        {
          "output_type": "stream",
          "name": "stdout",
          "text": [
            "[11 22 33]\n"
          ]
        }
      ]
    },
    {
      "cell_type": "code",
      "source": [
        "##Example: Broadcasting a 2D Array and a 1D Array\n",
        "arr1 = np.array([[1, 2, 3], [4, 5, 6]])\n",
        "arr2 = np.array([1, 2, 3])\n",
        "\n",
        "result = arr1 + arr2  # Broadcasting arr2 across arr1\n",
        "print(result)\n",
        "# Output:\n",
        "# [[2 4 6]\n",
        "#  [5 7 9]]"
      ],
      "metadata": {
        "colab": {
          "base_uri": "https://localhost:8080/"
        },
        "id": "c7XomGJ-Jh0n",
        "outputId": "702c8c91-436b-47db-e4c8-4b2e86df5921"
      },
      "execution_count": null,
      "outputs": [
        {
          "output_type": "stream",
          "name": "stdout",
          "text": [
            "[[2 4 6]\n",
            " [5 7 9]]\n"
          ]
        }
      ]
    },
    {
      "cell_type": "markdown",
      "source": [
        "# How Broadcasting Works\n",
        "**Dimensions must be compatible:** The size of the trailing dimensions of the arrays must be either the same or one of them must be 1.\n",
        "\n",
        "**Stretching arrays:** If the shapes are compatible, NumPy stretches the smaller array to match the larger one, element-wise, without copying data.\n"
      ],
      "metadata": {
        "id": "ZDEYC3HcJ4jz"
      }
    },
    {
      "cell_type": "markdown",
      "source": [
        "# 5. Hands-on: Applying Broadcasting to Real-World Scenarios\n",
        "Let’s apply broadcasting to a real-world scenario: scaling data in machine learning.\n",
        "\n",
        "**Example: Normalizing Data Using Broadcasting**\n",
        "Imagine you have a dataset where each row represents a sample and each column represents a feature. You can normalize the data by subtracting the mean of each column and dividing by the standard deviation."
      ],
      "metadata": {
        "id": "_frS2XedKH0T"
      }
    },
    {
      "cell_type": "code",
      "source": [
        "# Simulating a dataset (5 samples, 3 features)\n",
        "data = np.array([[10, 20, 30],\n",
        "                 [15, 25, 35],\n",
        "                 [20, 30, 40],\n",
        "                 [25, 35, 45],\n",
        "                 [30, 40, 50]])\n",
        "\n",
        "# Calculating mean and standard deviation for each feature (column)\n",
        "mean = data.mean(axis=0)\n",
        "std = data.std(axis=0)\n",
        "\n",
        "# Normalizing the data using broadcasting\n",
        "normalized_data = (data - mean) / std\n",
        "\n",
        "print(normalized_data)"
      ],
      "metadata": {
        "colab": {
          "base_uri": "https://localhost:8080/"
        },
        "id": "zoovw-fwLxPA",
        "outputId": "f3d88dc2-218d-4056-c5b2-601e204addda"
      },
      "execution_count": null,
      "outputs": [
        {
          "output_type": "stream",
          "name": "stdout",
          "text": [
            "[[-1.41421356 -1.41421356 -1.41421356]\n",
            " [-0.70710678 -0.70710678 -0.70710678]\n",
            " [ 0.          0.          0.        ]\n",
            " [ 0.70710678  0.70710678  0.70710678]\n",
            " [ 1.41421356  1.41421356  1.41421356]]\n"
          ]
        }
      ]
    },
    {
      "cell_type": "markdown",
      "source": [
        "# Summary:\n",
        "*  Loops are slow because Python's interpreter adds overhead, making iteration less efficient.\n",
        "*    Vectorization allows you to apply operations to entire arrays at once, greatly improving performance by utilizing NumPy’s optimized C backend.\n",
        "* Broadcasting enables operations between arrays of different shapes by automatically stretching the smaller array to match the shape of the larger array, without creating additional copies.\n",
        "* Real-world use: Broadcasting can be used in data science tasks, such as normalizing datasets, without sacrificing memory or performance."
      ],
      "metadata": {
        "id": "r46xDChyKmD4"
      }
    }
  ]
}