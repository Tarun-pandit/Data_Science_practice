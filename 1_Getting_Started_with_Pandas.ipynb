{
  "nbformat": 4,
  "nbformat_minor": 0,
  "metadata": {
    "colab": {
      "provenance": [],
      "authorship_tag": "ABX9TyMrlXLR1koQzE3jQDzHjtsf",
      "include_colab_link": true
    },
    "kernelspec": {
      "name": "python3",
      "display_name": "Python 3"
    },
    "language_info": {
      "name": "python"
    }
  },
  "cells": [
    {
      "cell_type": "markdown",
      "metadata": {
        "id": "view-in-github",
        "colab_type": "text"
      },
      "source": [
        "<a href=\"https://colab.research.google.com/github/Tarun-pandit/Data_Science_practice/blob/DATA_ANALYSIS_USING_PANDAS/1_Getting_Started_with_Pandas.ipynb\" target=\"_parent\"><img src=\"https://colab.research.google.com/assets/colab-badge.svg\" alt=\"Open In Colab\"/></a>"
      ]
    },
    {
      "cell_type": "markdown",
      "source": [
        "# What is Pandas?\n",
        "Pandas is a powerful, open-source Python library used for **data manipulation**, **cleaning**, and **analysis**. It provides two main data structures:\n",
        "\n",
        "* **Series**: A one-dimensional labeled array\n",
        "* **DataFrame**: A two-dimensional labeled table (like an Excel sheet or SQL table)\n",
        "\n",
        "Pandas makes working with structured data fast, expressive, and flexible.\n",
        "\n",
        "\n",
        "\n",
        "\n",
        "* *`If you're working with tables, spreadsheets, or CSVs in Python—Pandas is your best friend.`*"
      ],
      "metadata": {
        "id": "vID4Lr7nDZPo"
      }
    },
    {
      "cell_type": "code",
      "source": [
        "pip install pandas"
      ],
      "metadata": {
        "colab": {
          "base_uri": "https://localhost:8080/"
        },
        "id": "tp72xIF9E5gK",
        "outputId": "16877e54-afde-40e8-fb44-29b36d11d2d1"
      },
      "execution_count": 1,
      "outputs": [
        {
          "output_type": "stream",
          "name": "stdout",
          "text": [
            "Requirement already satisfied: pandas in /usr/local/lib/python3.12/dist-packages (2.2.2)\n",
            "Requirement already satisfied: numpy>=1.26.0 in /usr/local/lib/python3.12/dist-packages (from pandas) (2.0.2)\n",
            "Requirement already satisfied: python-dateutil>=2.8.2 in /usr/local/lib/python3.12/dist-packages (from pandas) (2.9.0.post0)\n",
            "Requirement already satisfied: pytz>=2020.1 in /usr/local/lib/python3.12/dist-packages (from pandas) (2025.2)\n",
            "Requirement already satisfied: tzdata>=2022.7 in /usr/local/lib/python3.12/dist-packages (from pandas) (2025.2)\n",
            "Requirement already satisfied: six>=1.5 in /usr/local/lib/python3.12/dist-packages (from python-dateutil>=2.8.2->pandas) (1.17.0)\n"
          ]
        }
      ]
    },
    {
      "cell_type": "markdown",
      "metadata": {
        "id": "05d91a9c"
      },
      "source": [
        "# Why Use Pandas?\n",
        "\n",
        "Pandas simplifies common data manipulation tasks significantly. Here's a comparison:\n",
        "\n",
        "| Task                | Without Pandas              | With Pandas        |\n",
        "|---------------------|-----------------------------|--------------------|\n",
        "| Load a CSV          | `open()` + loops            | `pd.read_csv()`    |\n",
        "| Filter rows         | Custom loop logic           | `df[df[\"col\"] > 5]` |\n",
        "| Group & summarize   | Manual aggregation          | `df.groupby()`     |\n",
        "| Merge two datasets  | Nested loops                | `pd.merge()`       |\n",
        "\n",
        "**Pandas saves time, reduces code, and increases readability.**"
      ]
    },
    {
      "cell_type": "code",
      "source": [
        "## Importing Pandas\n",
        "import pandas as pd"
      ],
      "metadata": {
        "id": "ytEY4XmZFKMn"
      },
      "execution_count": 2,
      "outputs": []
    },
    {
      "cell_type": "markdown",
      "metadata": {
        "id": "9cee3ec8"
      },
      "source": [
        "# Pandas vs Excel vs SQL vs NumPy\n",
        "\n",
        "Let's compare Pandas to other popular tools for data handling:\n",
        "\n",
        "| Tool    | Strengths                       | Weaknesses                         |\n",
        "|---------|---------------------------------|------------------------------------|\n",
        "| Excel   | Easy UI, great for small data   | Slow, manual, not scalable         |\n",
        "| SQL     | Efficient querying of big data  | Not ideal for transformation logic |\n",
        "| NumPy   | Fast, low-level array operations| No labels, harder for tabular data |\n",
        "| Pandas  | Label-aware, fast, flexible     | Slightly steep learning curve      |\n",
        "\n",
        "**Pandas bridges the gap between NumPy performance and Excel-like usability.** Pandas is built on top of NumPy."
      ]
    },
    {
      "cell_type": "markdown",
      "metadata": {
        "id": "67def48b"
      },
      "source": [
        "# Summary\n",
        "\n",
        "* Use Pandas when working with structured data.\n",
        "* It's the Swiss Army knife of data science."
      ]
    }
  ]
}